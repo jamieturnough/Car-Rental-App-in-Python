{
 "cells": [
  {
   "cell_type": "code",
   "execution_count": 23,
   "metadata": {
    "colab": {
     "base_uri": "https://localhost:8080/"
    },
    "id": "6xZIXC2uKSnL",
    "outputId": "ca40c9a5-00b7-43ab-b44b-cfe172966bb9"
   },
   "outputs": [],
   "source": [
    "# This program was written by Jamie Turnough for submission for the PGC AIML Foundations: Programming Refresher assignment\n",
    "# Admin - can Add, Delete or amend available cars\n",
    "# User - can login, added cars to a cart and check out. They can also return cars with a date and time input field, which will generate an invoice\n",
    "# the code is not fully functional (i.e. sessions and some error detections, but should cover all requested tasks in the assignment\n",
    "\n",
    "####### IMPORTANT NOTE. the last fuction in this program will start the users interafe for both admin and users #######\n",
    "\n",
    "import datetime #for working our durtions of rentals\n",
    "import random  #for generating random session ids\n",
    "import re # so correctly formatted input dates and times are correct\n",
    "from IPython.display import clear_output # this is to clear the console"
   ]
  },
  {
   "cell_type": "code",
   "execution_count": 24,
   "metadata": {
    "id": "KLwE2hQeN_s3"
   },
   "outputs": [],
   "source": [
    "# Create demo database with user and admin credentials\n",
    "# Not specifically requested for this assignment but added anyway\n",
    "user_db = {\"user1\": \"password1\", \"user2\": \"password2\",}\n",
    "admin_db = {\"admin1\": \"password1\"}"
   ]
  },
  {
   "cell_type": "code",
   "execution_count": 25,
   "metadata": {
    "id": "mR2sLd5IEf0N"
   },
   "outputs": [],
   "source": [
    "# create a unique session id\n",
    "#not really required for this assignment, but added anyway - implemented just simulated, not fully implemented \n",
    "def generate_session_id():\n",
    "      # Generate a random number between 1000 and 9999\n",
    "    return random.randint(1000, 9999)"
   ]
  },
  {
   "cell_type": "code",
   "execution_count": 66,
   "metadata": {
    "id": "uqsroiuDOcmF"
   },
   "outputs": [],
   "source": [
    "# Function to handle user login\n",
    "def user_login():\n",
    "    user = input(\"\\nEnter your username (or type 'x' to exit) : \")\n",
    "    if user == \"x\" : \n",
    "        return \n",
    "    else:    \n",
    "        password = input(\"\\nEnter your password: \")\n",
    "    if user in user_db and user_db[user] == password:\n",
    "        clear_output()\n",
    "        # Generate session id for user\n",
    "        session_id = generate_session_id()\n",
    "        print(\"Login successful as user.\"+ \" Please make a note of your session id: {}\".format(session_id))\n",
    "        choose_cars(session_id)\n",
    "        return\n",
    "    if user in user_db and not user_db[user] == password:     \n",
    "        clear_output()\n",
    "        print(\"\\nPassword incorrect! Please try again.\\n\")\n",
    "        user_login()\n",
    "    else:\n",
    "        clear_output()\n",
    "        print(\"Your username does not appear to be in our database. PLease try again\")\n",
    "        user_login()\n"
   ]
  },
  {
   "cell_type": "code",
   "execution_count": 99,
   "metadata": {
    "id": "CSFJ5zlZPudQ"
   },
   "outputs": [],
   "source": [
    "# Create a list of cars for sale with rates\n",
    "catalogue = [\n",
    "    {\"id\": 1001, \"name\": \"Ford1\", \"Hourly\": 50, \"Daily\": 300, \"Weekly\" : 1200, \"date_rented\": \"\" },\n",
    "    {\"id\": 1002, \"name\": \"Tesla\", \"Hourly\": 100, \"Daily\": 600, \"Weekly\" : 2400, \"date_rented\": \"\" },\n",
    "    {\"id\": 1003, \"name\": \"BYD\",  \"Hourly\": 70, \"Daily\": 450, \"Weekly\" : 900, \"date_rented\": \"\"},\n",
    "    {\"id\": 1004, \"name\": \"Ferreri\",  \"Hourly\": 500, \"Daily\": 3000, \"Weekly\" : 10000, \"date_rented\": \"\"},\n",
    "    {\"id\": 1005, \"name\": \"Ford2\", \"Hourly\": 50, \"Daily\": 300, \"Weekly\" : 1200, \"date_rented\": \"\"},\n",
    "    {\"id\": 1006, \"name\": \"Ford3\", \"Hourly\": 50, \"Daily\": 300, \"Weekly\" : 1200, \"date_rented\": \"\"}\n",
    "]\n"
   ]
  },
  {
   "cell_type": "code",
   "execution_count": 102,
   "metadata": {
    "id": "V2w0V_eMQI3g"
   },
   "outputs": [],
   "source": [
    "# Function to display the list of cars available\n",
    "def display_cars():\n",
    "    print(\"Id\\tname\\tHourly\\tDaily\\tWeekly\\tDate Rented\")\n",
    "    for product in catalogue:\n",
    "        print(f\"{product['id']}\\t{product['name']}\\t{product['Hourly']}\\t{product['Daily']}\\t{product['Weekly']}\\t\\t{product['date_rented']}\\t\\t\")\n",
    "        #return\n"
   ]
  },
  {
   "cell_type": "code",
   "execution_count": 103,
   "metadata": {
    "colab": {
     "base_uri": "https://localhost:8080/"
    },
    "id": "-PyTRGZFQQaB",
    "outputId": "adccbd88-6656-4821-abb8-5261ce256363"
   },
   "outputs": [
    {
     "name": "stdout",
     "output_type": "stream",
     "text": [
      "Id\tname\tHourly\tDaily\tWeekly\tDate Rented\n",
      "1001\tFord1\t50\t300\t1200\t\t\t\t\n",
      "1002\tTesla\t100\t600\t2400\t\t\t\t\n",
      "1003\tBYD\t70\t450\t900\t\t\t\t\n",
      "1004\tFerreri\t500\t3000\t10000\t\t\t\t\n",
      "1005\tFord2\t50\t300\t1200\t\t\t\t\n",
      "1006\tFord3\t50\t300\t1200\t\t\t\t\n"
     ]
    }
   ],
   "source": [
    "# Call the display_cars function to show the all cars available\n",
    "display_cars()"
   ]
  },
  {
   "cell_type": "code",
   "execution_count": 51,
   "metadata": {
    "id": "hkqeO5SyQkZY"
   },
   "outputs": [],
   "source": [
    "# Create a demo cart\n",
    "cart = []"
   ]
  },
  {
   "cell_type": "code",
   "execution_count": 52,
   "metadata": {
    "id": "R8sfWlmiR0Vp"
   },
   "outputs": [],
   "source": [
    "# Function to display the cart\n",
    "def display_cart():\n",
    "    print(\"Cars currently in you cart\")\n",
    "    print(\"Session Id\\tProduct Id\\tName\\t\\tDate Rented\")\n",
    "    for item in cart:\n",
    "        print(f\"{item['session_id']}\\t\\t{item['product_id']}\\t\\t{item['name']}\")"
   ]
  },
  {
   "cell_type": "code",
   "execution_count": 72,
   "metadata": {
    "colab": {
     "base_uri": "https://localhost:8080/"
    },
    "id": "rryKxyBiSNbs",
    "outputId": "80ca44a2-dee3-47c6-d90a-7e90afe1a76a"
   },
   "outputs": [],
   "source": [
    "# User login\n",
    "def choose_cars(session_id):\n",
    "   \n",
    "    session_id != 0\n",
    "    while True:\n",
    "        print(\"\\n1. Add Car(s) To Cart\")\n",
    "        print(\"2. Remove Cars from Cart\")\n",
    "        print(\"3. View Shopping Cart\")\n",
    "        print(\"4. clear cart\")\n",
    "        print(\"5. Checkout all cars in the Cart\")\n",
    "        print(\"\\nOr select options below to View or Return cars already rented\\n\")\n",
    "        print(\"6. View Cars Rented\")\n",
    "        print(\"7. Return Rented Cars & Generate Final Invoice\")\n",
    "        print(\"8. Logout \\n\")\n",
    "        choice = int(input(\"Enter your choice: \"))\n",
    "        print(\"\\n\")\n",
    "        if choice == 1:\n",
    "            clear_output()\n",
    "            print(\"Cars available to rent with charge rates are below\" + \"\\n\")\n",
    "            display_cars()\n",
    "            product_id = int(input(\"Type the Car id you wish to add to cart: \"))\n",
    "            clear_output()\n",
    "            add_to_cart(session_id, product_id)\n",
    "            display_cart()\n",
    "        \n",
    "        elif choice == 2:\n",
    "            clear_output()\n",
    "            display_cart()\n",
    "            product_id = int(input(\"Enter the product id: \"))\n",
    "            delete_from_cart(product_id)\n",
    "    \n",
    "        elif choice == 3:\n",
    "            clear_output()\n",
    "            display_cart()\n",
    " \n",
    "        elif choice == 4:\n",
    "            clear_output()\n",
    "            clear_cart()\n",
    "\n",
    "        elif choice == 5:\n",
    "            clear_output()         \n",
    "            checkout(session_id)\n",
    "\n",
    "        elif choice == 6:\n",
    "            clear_output()\n",
    "            display_cars_rented()\n",
    "        \n",
    "        elif choice == 7:\n",
    "            clear_output()\n",
    "            invoice_for_cars_rented()\n",
    "        \n",
    "        elif choice == 8:\n",
    "            break\n",
    "        else:\n",
    "            clear_output()\n",
    "            print(\"Invalid choice. Please re-enter!\")"
   ]
  },
  {
   "cell_type": "code",
   "execution_count": 54,
   "metadata": {
    "id": "YkPpzN7WR6rE"
   },
   "outputs": [],
   "source": [
    "# Function to add an item to the cart\n",
    "def add_to_cart(session_id, product_id):\n",
    "    product = [p for p in catalogue if p['id'] == product_id][0]\n",
    "    if not any(item['product_id'] == product_id for item in cart):\n",
    "        cart.append({\"session_id\": session_id, \"product_id\": product_id, \"name\": product['name'], \"date_rented\": \"\"})\n",
    "        print(f\"{product['name']} added to the cart.\\n\")\n",
    "    else:\n",
    "        print(f\"{product['name']} already added in cart!!!\\n\")"
   ]
  },
  {
   "cell_type": "code",
   "execution_count": 70,
   "metadata": {
    "id": "-gcGXGUJSHKt"
   },
   "outputs": [],
   "source": [
    "# Function to delete an item from the cart\n",
    "def delete_from_cart(product_id):\n",
    "    for i, item in enumerate(cart):\n",
    "        if  item['product_id'] == product_id:\n",
    "            del cart[i]\n",
    "            clear_output()\n",
    "            display_cart()\n",
    "            print(f\"\\n{item['name']} removed from the cart.\")\n",
    "            break\n",
    "    else:\n",
    "        print(\"Item not found in the cart.\")\n",
    "\n"
   ]
  },
  {
   "cell_type": "code",
   "execution_count": 56,
   "metadata": {
    "id": "mR2sLd5IEf0N"
   },
   "outputs": [],
   "source": [
    "# Function to delete all item from the cart\n",
    "def clear_cart():\n",
    "    cart.clear()\n",
    "    print(\"Cart cleared.\")"
   ]
  },
  {
   "cell_type": "code",
   "execution_count": 57,
   "metadata": {
    "colab": {
     "base_uri": "https://localhost:8080/"
    },
    "id": "5Yc1qi7kUsOs",
    "outputId": "dd378615-74a6-4e6d-8f03-4e403845f2af"
   },
   "outputs": [],
   "source": [
    "# Example usage\n",
    "def checkout(session_id):\n",
    " \n",
    "    if len(cart) == 0: \n",
    "        print(\"You are not currently renting any cars\")\n",
    "        # Return from the function to avoid further execution\n",
    "        return\n",
    "    else:\n",
    "        display_cart()\n",
    "        confirm = input(\"\\n Please confirm booking (y/n): \") \n",
    "    \n",
    "        if confirm != \"y\" and confirm != \"Y\": \n",
    "            print(\"Invalid payment method selected. Please choose a valid payment option.\\n\")  \n",
    "        else:\n",
    "            for item in cart:\n",
    "            # Get the current date and time as a datetime object\n",
    "                now = datetime.datetime.now()\n",
    "                # Convert the datetime object to a string in the desired format\n",
    "                timestamp = now.strftime('%Y-%m-%d %H:%M:%S')\n",
    "                # Add the timestamp to the item as a new attribute\n",
    "                item[\"date_rented\"] = timestamp\n",
    "        # Print the cart to see the result\n",
    "        display_cars_rented()\n"
   ]
  },
  {
   "cell_type": "code",
   "execution_count": 108,
   "metadata": {
    "id": "R8sfWlmiR0Vp"
   },
   "outputs": [],
   "source": [
    "# Function to display cars leased with start times\n",
    "def display_cars_rented():\n",
    "    clear_output()\n",
    "    # Check if the cars in the list have been checked out yet\n",
    "#    for item in cart: \n",
    "#        if item['date_rented'] == \"\" :\n",
    "#           print(\"No cars are currently rented. Please check out first!\")  \n",
    "#           return     \n",
    "#        else:\n",
    "            # Check that there are cars in the cart\n",
    "#            if len(cart) == 0: \n",
    "#                print(\"\\nYou are not currently renting any cars!\")\n",
    "                # Return from the function to avoid further execution\n",
    "#                return\n",
    "#            else:\n",
    "    print(\"Cars currently rented are below\\n\")\n",
    "    print(\"Session Id\\tProduct Id\\tName\\tDate Rented\")\n",
    "                \n",
    "    for item in cart:\n",
    "        print(f\"{item['session_id']}\\t\\t{item['product_id']}\\t\\t{item['name']}\\t{item['date_rented']}\")"
   ]
  },
  {
   "cell_type": "code",
   "execution_count": 107,
   "metadata": {
    "id": "R8sfWlmiR0Vp"
   },
   "outputs": [],
   "source": [
    "# function checks if a string is in the format 'yyy-mm-dd'\n",
    "def is_valid_date(date):\n",
    "    # Define a regular expression pattern for the date format\n",
    "    pattern = r\"^\\d{4}-\\d{2}-\\d{2}$\"\n",
    "    # Use the re.match function to check if the date matches the pattern\n",
    "    match = re.match(pattern, date)\n",
    "    # Return True if there is a match, False otherwise\n",
    "    return bool(match)"
   ]
  },
  {
   "cell_type": "code",
   "execution_count": 60,
   "metadata": {
    "id": "R8sfWlmiR0Vp"
   },
   "outputs": [],
   "source": [
    "# Dfunction checks if a string is in the format 'hh:mm'\n",
    "def is_valid_time(time):\n",
    "    # Define a regular expression pattern for the time format\n",
    "    pattern = r\"^(?:[01]\\d|2[0-3]):[0-5]\\d$\"\n",
    "    # Use the re.match function to check if the time matches the pattern\n",
    "    match = re.match(pattern, time)\n",
    "    # Return True if there is a match, False otherwise\n",
    "    return bool(match)"
   ]
  },
  {
   "cell_type": "code",
   "execution_count": 89,
   "metadata": {
    "id": "R8sfWlmiR0Vp"
   },
   "outputs": [],
   "source": [
    "# Function to display cars leased with start times\n",
    "def invoice_for_cars_rented():\n",
    "    total_cost = 0 # variable for calcualting total cost for all rentals\n",
    "\n",
    "    product = [p for p in cart if p['date_rented'] == \"\"]\n",
    "    if product:\n",
    "        print(\"No cars are currently rented. Please check out first!\")  \n",
    "    else:   \n",
    "    \n",
    "        from datetime import datetime as datetime\n",
    "        for item in cart:\n",
    "            clear_output()\n",
    "            display_cars_rented()\n",
    "            # Get the current date and time as a datetime object\n",
    "            now = datetime.now()\n",
    "            row = item['product_id']\n",
    "            rentedDate = item['date_rented']\n",
    "            format = \"%Y-%m-%d %H:%M:%S\"    \n",
    "            #original date cars were rented\n",
    "            RentedDateTime = datetime.strptime(rentedDate, format)\n",
    "            #simulate return date in the future\n",
    "            # Use a while loop to validate the user input for the return date\n",
    "            while True:\n",
    "                dayReturned = input(\"\\n Please confirm return date for Product ID: \" + str(item['product_id']) + \" - \" + item['name'] + \" ('yyyy-mm-dd' format: \") \n",
    "                # Check if the input is a valid date using the 'is_valid_date' function\n",
    "                if is_valid_date(dayReturned) and dayReturned > rentedDate:\n",
    "                    # If the input is valid, break out of the loop\n",
    "                    break\n",
    "                else:\n",
    "                    # If the input is invalid, print an error message and ask for input again\n",
    "                    print(\"Invalid date format or date in the past. Please enter a date in the format 'yyyy-mm-dd'.\")\n",
    "                    # Use another while loop to validate the user input for the return time\n",
    "            while True:\n",
    "                hourReturned = input(\"\\n Please state date returned in 'hh:mm' format: \") \n",
    "                # Check if the input is a valid time using the 'is_valid_time' function\n",
    "                if is_valid_time(hourReturned):\n",
    "                    # If the input is valid, break out of the loop\n",
    "                    break\n",
    "                else:\n",
    "                    # If the input is invalid, print an error message and ask for input again\n",
    "                    print(\"Invalid time format. Please enter a time in the format 'hh:mm'.\")\n",
    "            #concatenate date and time strings to correct format\n",
    "            returndate = dayReturned+\" \"+hourReturned+\":00\"       \n",
    "            item[\"return_date\"] = returndate\n",
    "                \n",
    "            # get the date back into datetime format\n",
    "            ReturnedDateTime = datetime.strptime(returndate, format)\n",
    "                \n",
    "            # Calculate the duration as a timedelta object\n",
    "            duration  = ReturnedDateTime - RentedDateTime\n",
    "    \n",
    "            # Get the days and hours from the duration\n",
    "            weeks = duration.days // 7\n",
    "            days = duration.days - (weeks * 7)\n",
    "            hours = (duration.seconds // 3600) #- (days * 24)\n",
    "    \n",
    "            hourly_rate = next((d[\"Hourly\"] for d in catalogue if d[\"id\"] == row), None)\n",
    "            daily_rate = next((d[\"Daily\"] for d in catalogue if d[\"id\"] == row), None)\n",
    "            weekly_rate = next((d[\"Weekly\"] for d in catalogue if d[\"id\"] == row), None)     \n",
    "    \n",
    "            cost = (weeks * weekly_rate) + (days*daily_rate) + (hours * hourly_rate)\n",
    "            total_cost = total_cost+cost       \n",
    "            durationW = str(weeks)\n",
    "            durationD = str(days)\n",
    "            durationH = str(hours)\n",
    "            item[\"Weeks\"] = durationW\n",
    "            item[\"Days\"] = durationD\n",
    "            item[\"Hours\"] = durationH\n",
    "            item[\"cost\"] = cost\n",
    "    \n",
    "         # Print the cart to see the result                \n",
    "        clear_output()\n",
    "        print(\"Session Id\\tProduct Id\\tName\\tDate Rented\\t\\tDate Returned\\t\\tWeeks\\tDays\\tHours\\tcost\")\n",
    "        for item in cart:\n",
    "            print(f\"{item['session_id']}\\t\\t{item['product_id']}\\t\\t{item['name']}\\t{item['date_rented']}\\t{item['return_date']}\\t{item['Weeks']}\\t{item['Days']}\\t{item['Hours']}\\t{item['cost']}\")\n",
    "    \n",
    "        print(\"\\n***********************************************************************\")    \n",
    "        print(\"\\nYour final amount charged to your Creditcard is $\"+str(total_cost))\n",
    "        print(\"\\n***********************************************************************\")\n",
    "        clear_cart()\n",
    "\n"
   ]
  },
  {
   "cell_type": "code",
   "execution_count": 85,
   "metadata": {
    "id": "L9jsa-Lrd1my"
   },
   "outputs": [],
   "source": [
    "#Admin Login Verification\n",
    "def admin_login():\n",
    "\n",
    "    username = input(\"\\nEnter your username (or type 'x' to exit) : \")\n",
    "    if username == \"x\" : \n",
    "        return \n",
    "    else:    \n",
    "        password = input(\"Enter your password: \")\n",
    "    if username in admin_db and admin_db[username] == password:\n",
    "        clear_output()\n",
    "        # Generate session id for user\n",
    "        session_id = generate_session_id()\n",
    "        print(\"Login successful as Admin.\"+ \" Please make a note of your session id: {}\".format(session_id))\n",
    "        admin_func(session_id)\n",
    "        return\n",
    "    if username in admin_db and not admin_db[username] == password:     \n",
    "        clear_output()\n",
    "        print(\"\\nPassword incorrect! Please try again.\\n\")\n",
    "        admin_login()\n",
    "    else:\n",
    "        clear_output()\n",
    "        print(\"\\nYour username does not appear to be in our database. PLease try again\\n\")\n",
    "        admin_login()"
   ]
  },
  {
   "cell_type": "code",
   "execution_count": 86,
   "metadata": {
    "id": "L9jsa-Lrd1my"
   },
   "outputs": [],
   "source": [
    "#Admin Functionality menu. Note this is different from the Users menu\n",
    "def admin_func(session_id):\n",
    "        while True:\n",
    "            print(\"\\nEnter 1 view all cars catalog\")\n",
    "            print(\"Enter 2 to add Car to the catalog\")\n",
    "            print(\"Enter 3 to update Car in the catalog\")\n",
    "            print(\"Enter 4 to delete product from the catalog\")\n",
    "            print(\"Enter 5 to Logout\\n\")\n",
    "            admin_choice = int(input(\"Enter your choice: \"))\n",
    "\n",
    "            if admin_choice == 1:\n",
    "                clear_output()\n",
    "                display_cars()\n",
    "            \n",
    "            #Add product to the catalog\n",
    "            elif admin_choice == 2:\n",
    "                clear_output()\n",
    "                display_cars()\n",
    "                product_id = int(input(\"\\nEnter New Product ID: \"))\n",
    "                name = input(\"Enter Car Name: \")\n",
    "                hourly = int(input(\"Enter New Hourly Rate: \"))\n",
    "                daily = int(input(\"Enter New Daily Rate: \"))\n",
    "                weekly = int(input(\"Enter New Weekly Rate: \"))\n",
    "                add_product(product_id, name, hourly, daily, weekly)\n",
    "                \n",
    "            #Update product in the catalog\n",
    "            elif admin_choice == 3:\n",
    "                clear_output()\n",
    "                display_cars()\n",
    "                product_id = int(input(\"\\nEnter Car ID to Amend: \"))\n",
    "                name = input(\"Enter New Car Name: \")\n",
    "                hourly = int(input(\"Enter New Hourly Rate: \"))\n",
    "                daily = int(input(\"Enter New Daily Rate: \"))\n",
    "                weekly = int(input(\"Enter New Weekly Rate: \"))\n",
    "                amend_product(product_id, name, hourly, daily, weekly)\n",
    "               \n",
    "            #Delete product from the catalog\n",
    "            elif admin_choice == 4:\n",
    "                clear_output()\n",
    "                display_cars()                \n",
    "                product_id = int(input(\"\\nEnter Product ID to Delete: \"))\n",
    "                delete_product(product_id)         \n",
    "                 \n",
    "            #Logout\n",
    "            elif admin_choice == 5:\n",
    "                print(\"\\nAdmin Logout Successful.\")\n",
    "                break\n",
    "            else:\n",
    "                clear_output()\n",
    "                print(\"\\nInvalid Input. Try Again.\\n\")"
   ]
  },
  {
   "cell_type": "code",
   "execution_count": 94,
   "metadata": {
    "id": "YZLm89Aak6mB"
   },
   "outputs": [],
   "source": [
    "# this function (access by Admin only) allows the admin to add new cars to the catologue\n",
    "def add_product(product_id, name, hourly, daily, weekly):\n",
    "    product = [p for p in catalogue if p['id'] == product_id]\n",
    "    if product:\n",
    "        print(f\"{name} already exists in the catalogue!!!\\n\")\n",
    "    else:    \n",
    "        catalogue.append({\"id\": product_id, \"name\": name, \"Hourly\":hourly, \"Daily\": daily, \"Weekly\": weekly, \"date_rented\": \"\"})\n",
    "        clear_output()\n",
    "        print(f\"{name} added to the catalogue.\\n\")\n",
    "        display_cars()\n",
    "\n",
    "# this function allows the admin to amend the details on cars already in the catalogue\n",
    "def amend_product(product_id, name, hourly, daily, weekly):\n",
    "    product = [p for p in catalogue if p['id'] == product_id]\n",
    "    if product:\n",
    "        product[0]['name'] = name\n",
    "        product[0]['Hourly'] = hourly\n",
    "        product[0]['Daily'] = daily\n",
    "        product[0]['Weekly'] = weekly\n",
    "        clear_output()\n",
    "        print(f\"{name} amended in the catalogue.\\n\")\n",
    "        display_cars()\n",
    "    else:\n",
    "        print(f\"Product with ID {product_id} does not exist in the catalogue!!!\\n\")\n",
    "\n",
    "# this function deletes cars from the catoglue.\n",
    "def delete_product(product_id):\n",
    "    product = [p for p in catalogue if p['id'] == product_id]\n",
    "    if product:\n",
    "        catalogue.remove(product[0])\n",
    "        clear_output()\n",
    "        print(f\"\\nProduct ID: {product[0]['id']} - ({product[0]['name']}) was removed from the catalogue.\\n\")\n",
    "        display_cars()\n",
    "    else:\n",
    "        clear_output()\n",
    "        print(f\"\\nProduct with ID {product_id} does not exist in the catalogue!!!\\n\")\n",
    "        display_cars()\n"
   ]
  },
  {
   "cell_type": "code",
   "execution_count": null,
   "metadata": {},
   "outputs": [
    {
     "name": "stdout",
     "output_type": "stream",
     "text": [
      "Id\tname\tHourly\tDaily\tWeekly\tDate Rented\n",
      "1001\tFord1\t50\t300\t1200\t\t\t\t\n",
      "1002\tTesla\t100\t600\t2400\t\t\t\t\n",
      "1003\tBYD\t70\t450\t900\t\t\t\t\n",
      "1004\tFerreri\t100\t400\t2000\t\t\t\t\n",
      "1005\tFord2\t50\t300\t1200\t\t\t\t\n",
      "1006\tFord3\t50\t300\t1200\t\t\t\t\n",
      "\n",
      "Enter 1 view all cars catalog\n",
      "Enter 2 to add Car to the catalog\n",
      "Enter 3 to update Car in the catalog\n",
      "Enter 4 to delete product from the catalog\n",
      "Enter 5 to Logout\n",
      "\n"
     ]
    }
   ],
   "source": [
    "#### MAIN PROGRAM BEGIN HERE #######################\n",
    "#####################################################################\n",
    "# User or admin can call the login functions as per their choice below.\n",
    "# different menus for each.\n",
    "login_as = input(\"\\nEnter 'u' for user login or 'a' for admin login: \")\n",
    "if login_as == 'u':\n",
    "    user_login()\n",
    "elif login_as == 'a':\n",
    "    admin_login()\n",
    "else:\n",
    "    print(\"Invalid option.\")"
   ]
  },
  {
   "cell_type": "code",
   "execution_count": null,
   "metadata": {},
   "outputs": [],
   "source": []
  }
 ],
 "metadata": {
  "colab": {
   "provenance": []
  },
  "kernelspec": {
   "display_name": "Python 3 (ipykernel)",
   "language": "python",
   "name": "python3"
  },
  "language_info": {
   "codemirror_mode": {
    "name": "ipython",
    "version": 3
   },
   "file_extension": ".py",
   "mimetype": "text/x-python",
   "name": "python",
   "nbconvert_exporter": "python",
   "pygments_lexer": "ipython3",
   "version": "3.11.6"
  }
 },
 "nbformat": 4,
 "nbformat_minor": 4
}
